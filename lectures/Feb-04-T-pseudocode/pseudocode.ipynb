{
 "cells": [
  {
   "cell_type": "markdown",
   "metadata": {},
   "source": [
    "---\n",
    "## Bubble Sort Algorithm\n",
    "\n",
    "Sort a list of items by repeatedly swapping pairs of items that are out of order until the list is sorted.\n",
    "\n",
    "But how will you do it? That's the point of pseudocode.\n",
    "\n",
    "![Bubble Sort](images/bubblesort.png)"
   ]
  },
  {
   "cell_type": "markdown",
   "metadata": {},
   "source": [
    "## <font color=red>Exercise</font>"
   ]
  },
  {
   "cell_type": "markdown",
   "metadata": {},
   "source": [
    "1. Write a very brief description of how you will implement the bubble sort algorithm."
   ]
  },
  {
   "cell_type": "markdown",
   "metadata": {},
   "source": [
    "Loop through every number and compare until "
   ]
  },
  {
   "cell_type": "markdown",
   "metadata": {},
   "source": [
    "2. Write pseudocode for the bubble sort algorithm."
   ]
  },
  {
   "cell_type": "markdown",
   "metadata": {},
   "source": [
    "list is [5, 1, 12, -5, 16]\n",
    "WHILE list not sorted\n",
    "    FOR range of numbers 0 to 4\n",
    "        IF list(i) > list (i+1)\n",
    "            swap\n",
    "        END IF\n",
    "        else keep order\n",
    "    END FOR\n",
    "ENDWHILE"
   ]
  },
  {
   "cell_type": "markdown",
   "metadata": {},
   "source": [
    "3. Write a function that implements the bubble sort algorithm on an input array and use it to sort the list of items below."
   ]
  },
  {
   "cell_type": "code",
   "execution_count": 49,
   "metadata": {},
   "outputs": [],
   "source": []
  },
  {
   "cell_type": "code",
   "execution_count": 1,
   "metadata": {},
   "outputs": [
    {
     "data": {
      "text/plain": [
       "array([5, 5, 8, 3, 7, 0, 2, 4, 1, 1, 9, 1, 4, 2, 2, 1, 1, 5, 5, 4])"
      ]
     },
     "execution_count": 1,
     "metadata": {},
     "output_type": "execute_result"
    }
   ],
   "source": [
    "import numpy as np\n",
    "items = np.random.randint(0, 10, (20,))\n",
    "items"
   ]
  },
  {
   "cell_type": "code",
   "execution_count": 2,
   "metadata": {},
   "outputs": [],
   "source": [
    "def bubbleSort(items):\n",
    "    notSorted = True\n",
    "    while notSorted:\n",
    "        notSorted = False #starts off assuming not sorted and if everything \n",
    "        for i in range (len(items)-1):\n",
    "            if items[i]>items[i+1]:\n",
    "                items[i], items[i+1] = items[i+1], items[i] #swaps items\n",
    "                notSorted = True"
   ]
  },
  {
   "cell_type": "code",
   "execution_count": 3,
   "metadata": {},
   "outputs": [
    {
     "data": {
      "text/plain": [
       "array([0, 1, 1, 1, 1, 1, 2, 2, 2, 3, 4, 4, 4, 5, 5, 5, 5, 7, 8, 9])"
      ]
     },
     "execution_count": 3,
     "metadata": {},
     "output_type": "execute_result"
    }
   ],
   "source": [
    "bubbleSort(items)\n",
    "items"
   ]
  },
  {
   "cell_type": "markdown",
   "metadata": {},
   "source": [
    "---\n",
    "## Insertion Sort Algorithm\n",
    "\n",
    "For each item in an list, insert it into its sorted position within all previous items.\n",
    "\n",
    "![Insertion Sort](images/insertionsort.png)"
   ]
  },
  {
   "cell_type": "markdown",
   "metadata": {},
   "source": [
    "## <font color=red>Exercise</font>"
   ]
  },
  {
   "cell_type": "markdown",
   "metadata": {},
   "source": [
    "1. Write a very brief description of how you will implement the insertion sort algorithm."
   ]
  },
  {
   "cell_type": "markdown",
   "metadata": {},
   "source": [
    "2. Write pseudocode for the insertion sort algorithm."
   ]
  },
  {
   "cell_type": "markdown",
   "metadata": {},
   "source": [
    "3. Write a function that implements the insertion sort algorithm on an input array and use it to sort the list of items below."
   ]
  },
  {
   "cell_type": "code",
   "execution_count": null,
   "metadata": {},
   "outputs": [],
   "source": [
    "import numpy as np\n",
    "items = np.random.randint(0, 10, (20,))\n",
    "items"
   ]
  }
 ],
 "metadata": {
  "kernelspec": {
   "display_name": "Python 3",
   "language": "python",
   "name": "python3"
  },
  "language_info": {
   "codemirror_mode": {
    "name": "ipython",
    "version": 3
   },
   "file_extension": ".py",
   "mimetype": "text/x-python",
   "name": "python",
   "nbconvert_exporter": "python",
   "pygments_lexer": "ipython3",
   "version": "3.7.4"
  }
 },
 "nbformat": 4,
 "nbformat_minor": 4
}
