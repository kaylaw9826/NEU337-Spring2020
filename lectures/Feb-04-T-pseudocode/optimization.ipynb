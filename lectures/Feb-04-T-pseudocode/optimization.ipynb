{
 "cells": [
  {
   "cell_type": "markdown",
   "metadata": {},
   "source": [
    "# Code Profiling and Optimization\n",
    "\n",
    "See https://jakevdp.github.io/PythonDataScienceHandbook/01.07-timing-and-profiling.html for a breif description of these concepts."
   ]
  },
  {
   "cell_type": "markdown",
   "metadata": {},
   "source": [
    "---\n",
    "## prun\n",
    "\n",
    "#### code profiler"
   ]
  },
  {
   "cell_type": "code",
   "execution_count": 10,
   "metadata": {},
   "outputs": [
    {
     "name": "stdout",
     "output_type": "stream",
     "text": [
      " "
     ]
    },
    {
     "data": {
      "text/plain": [
       "         27 function calls in 0.134 seconds\n",
       "\n",
       "   Ordered by: internal time\n",
       "\n",
       "   ncalls  tottime  percall  cumtime  percall filename:lineno(function)\n",
       "        1    0.048    0.048    0.048    0.048 {method 'cumsum' of 'numpy.ndarray' objects}\n",
       "        1    0.029    0.029    0.029    0.029 {built-in method numpy.arange}\n",
       "        1    0.026    0.026    0.041    0.041 _methods.py:167(_var)\n",
       "        2    0.015    0.007    0.015    0.007 {method 'reduce' of 'numpy.ufunc' objects}\n",
       "        1    0.010    0.010    0.134    0.134 <string>:1(<module>)\n",
       "        1    0.005    0.005    0.046    0.046 {method 'var' of 'numpy.ndarray' objects}\n",
       "        1    0.000    0.000    0.134    0.134 {built-in method builtins.exec}\n",
       "        1    0.000    0.000    0.000    0.000 _methods.py:50(_count_reduce_items)\n",
       "        1    0.000    0.000    0.048    0.048 fromnumeric.py:55(_wrapfunc)\n",
       "        1    0.000    0.000    0.048    0.048 <__array_function__ internals>:2(cumsum)\n",
       "        1    0.000    0.000    0.048    0.048 fromnumeric.py:2358(cumsum)\n",
       "        3    0.000    0.000    0.000    0.000 {built-in method builtins.isinstance}\n",
       "        2    0.000    0.000    0.000    0.000 {built-in method numpy.array}\n",
       "        1    0.000    0.000    0.048    0.048 {built-in method numpy.core._multiarray_umath.implement_array_function}\n",
       "        2    0.000    0.000    0.000    0.000 _asarray.py:88(asanyarray)\n",
       "        1    0.000    0.000    0.000    0.000 {built-in method builtins.hasattr}\n",
       "        2    0.000    0.000    0.000    0.000 {built-in method builtins.issubclass}\n",
       "        1    0.000    0.000    0.000    0.000 {built-in method builtins.max}\n",
       "        1    0.000    0.000    0.000    0.000 {built-in method builtins.getattr}\n",
       "        1    0.000    0.000    0.000    0.000 {method 'disable' of '_lsprof.Profiler' objects}\n",
       "        1    0.000    0.000    0.000    0.000 fromnumeric.py:2354(_cumsum_dispatcher)"
      ]
     },
     "metadata": {},
     "output_type": "display_data"
    }
   ],
   "source": [
    "import numpy as np\n",
    "\n",
    "%prun np.cumsum(np.arange(10000000)).var()"
   ]
  },
  {
   "cell_type": "code",
   "execution_count": 15,
   "metadata": {},
   "outputs": [],
   "source": [
    "def somFunctionWhoCares(N):\n",
    "    total = 0\n",
    "    for i in range(5):\n",
    "        L = [j ^ (j >> i) for j in range(N)]\n",
    "        total += sum(L)\n",
    "    return total"
   ]
  },
  {
   "cell_type": "code",
   "execution_count": 16,
   "metadata": {},
   "outputs": [
    {
     "name": "stdout",
     "output_type": "stream",
     "text": [
      " "
     ]
    },
    {
     "data": {
      "text/plain": [
       "         14 function calls in 0.576 seconds\n",
       "\n",
       "   Ordered by: internal time\n",
       "\n",
       "   ncalls  tottime  percall  cumtime  percall filename:lineno(function)\n",
       "        5    0.495    0.099    0.495    0.099 <ipython-input-15-b2712e54221e>:4(<listcomp>)\n",
       "        5    0.037    0.007    0.037    0.007 {built-in method builtins.sum}\n",
       "        1    0.032    0.032    0.565    0.565 <ipython-input-15-b2712e54221e>:1(somFunctionWhoCares)\n",
       "        1    0.011    0.011    0.576    0.576 <string>:1(<module>)\n",
       "        1    0.000    0.000    0.576    0.576 {built-in method builtins.exec}\n",
       "        1    0.000    0.000    0.000    0.000 {method 'disable' of '_lsprof.Profiler' objects}"
      ]
     },
     "metadata": {},
     "output_type": "display_data"
    }
   ],
   "source": [
    "%prun somFunctionWhoCares(1000000)"
   ]
  },
  {
   "cell_type": "markdown",
   "metadata": {},
   "source": [
    "---\n",
    "## Never optimize unless you *REALLY REALLY* need to!!!\n",
    "\n",
    "* If your code is **fast enough**, that's **good enough**.\n",
    "* Don't waste time on needless optimization.\n",
    "* Only optimize those few critical bits that absolutely need it."
   ]
  }
 ],
 "metadata": {
  "kernelspec": {
   "display_name": "Python 3",
   "language": "python",
   "name": "python3"
  },
  "language_info": {
   "codemirror_mode": {
    "name": "ipython",
    "version": 3
   },
   "file_extension": ".py",
   "mimetype": "text/x-python",
   "name": "python",
   "nbconvert_exporter": "python",
   "pygments_lexer": "ipython3",
   "version": "3.7.5"
  }
 },
 "nbformat": 4,
 "nbformat_minor": 4
}
