{
 "cells": [
  {
   "cell_type": "markdown",
   "metadata": {},
   "source": [
    "# Code Readability"
   ]
  },
  {
   "cell_type": "code",
   "execution_count": 1,
   "metadata": {},
   "outputs": [
    {
     "name": "stdout",
     "output_type": "stream",
     "text": [
      "The Zen of Python, by Tim Peters\n",
      "\n",
      "Beautiful is better than ugly.\n",
      "Explicit is better than implicit.\n",
      "Simple is better than complex.\n",
      "Complex is better than complicated.\n",
      "Flat is better than nested.\n",
      "Sparse is better than dense.\n",
      "Readability counts.\n",
      "Special cases aren't special enough to break the rules.\n",
      "Although practicality beats purity.\n",
      "Errors should never pass silently.\n",
      "Unless explicitly silenced.\n",
      "In the face of ambiguity, refuse the temptation to guess.\n",
      "There should be one-- and preferably only one --obvious way to do it.\n",
      "Although that way may not be obvious at first unless you're Dutch.\n",
      "Now is better than never.\n",
      "Although never is often better than *right* now.\n",
      "If the implementation is hard to explain, it's a bad idea.\n",
      "If the implementation is easy to explain, it may be a good idea.\n",
      "Namespaces are one honking great idea -- let's do more of those!\n"
     ]
    }
   ],
   "source": [
    "import this"
   ]
  },
  {
   "cell_type": "markdown",
   "metadata": {},
   "source": [
    "---\n",
    "## Use descriptive names\n",
    "\n",
    "* **too short**: hard to understand what the code means\n",
    "* **too long**: hard to read the code (and thus understand what it means)\n",
    "* **just right**: compact but understandable"
   ]
  },
  {
   "cell_type": "code",
   "execution_count": 2,
   "metadata": {},
   "outputs": [],
   "source": [
    "# Huh? What the heck does this even mean?\n",
    "\n",
    "q = s(j, f, m)\n",
    "p(q)"
   ]
  },
  {
   "cell_type": "code",
   "execution_count": null,
   "metadata": {},
   "outputs": [],
   "source": [
    "# Much more understandable\n",
    "\n",
    "quarterly_total = sum(january_total, february_total, march_total);\n",
    "print(quarterly_total)"
   ]
  },
  {
   "cell_type": "code",
   "execution_count": null,
   "metadata": {},
   "outputs": [],
   "source": [
    "# Excessively long names make it hard to read\n",
    "\n",
    "quarterly_total_for_company_x_in_2011_as_of_today = add_all_of_these_together_and_return_the_result(january_total_amount, february_total_amount, march_total_amount)\n",
    "send_to_screen_and_dont_wait_for_user_to_respond(quarterly_total_for_company_x_in_2011_as_of_today)"
   ]
  },
  {
   "cell_type": "markdown",
   "metadata": {},
   "source": [
    "---\n",
    "## Comment when necessary\n",
    "\n",
    "* If names of variables and functions can speak for themselves, let them. No need for unnecessary comments.\n",
    "* If not, comment so that someone else can understand what you are doing and why."
   ]
  },
  {
   "cell_type": "code",
   "execution_count": null,
   "metadata": {},
   "outputs": [],
   "source": [
    "# compute the quarterly total <-- This comment is unnecessary!\n",
    "\n",
    "quarterly_total = sum(january_total, february_total, march_total);\n",
    "print(quarterly_total)"
   ]
  },
  {
   "cell_type": "markdown",
   "metadata": {},
   "source": [
    "---\n",
    "## Avoid deeply nested code blocks\n",
    "## Use space to separate and group things"
   ]
  },
  {
   "cell_type": "code",
   "execution_count": null,
   "metadata": {},
   "outputs": [],
   "source": [
    "# Deeply nested blocks are hard to read.\n",
    "\n",
    "def reset_password(email, password, new_password, confirm_new_password):\n",
    "    if email and password and new_password and confirm_new_password:\n",
    "        if new_password == confirm_new_password:\n",
    "            if login(email, password):\n",
    "                if set_password(email, new_password):\n",
    "                    return True\n",
    "            # What code block do I belong to? (this one is still rather trivial, but this can be a problem)\n",
    "    return False"
   ]
  },
  {
   "cell_type": "code",
   "execution_count": null,
   "metadata": {},
   "outputs": [],
   "source": [
    "# This is arguably much clearer and simpler logic.\n",
    "# The spacing also helps the readability.\n",
    "\n",
    "def reset_password(email, password, new_password, confirm_new_password):\n",
    "    if not (email and password and new_password and confirm_new_password:):\n",
    "        return False\n",
    "    \n",
    "    if new_password != confirm_new_password:\n",
    "        return False\n",
    "    \n",
    "    if not login(email, password):\n",
    "        return False\n",
    "    \n",
    "    if not set_password(email, new_password):\n",
    "        return False\n",
    "    \n",
    "    return True"
   ]
  },
  {
   "cell_type": "markdown",
   "metadata": {},
   "source": [
    "---\n",
    "## Don't repeat the same code in multiple places.\n",
    "## Instead put it in a function or module and call it where needed."
   ]
  },
  {
   "cell_type": "code",
   "execution_count": null,
   "metadata": {},
   "outputs": [],
   "source": [
    "def myfunc():\n",
    "    \"\"\" stuff we will do in multiple places in the program...\n",
    "    \n",
    "    This way any changes will be sure to be propagated to\n",
    "    all use cases.\n",
    "    \"\"\""
   ]
  },
  {
   "cell_type": "markdown",
   "metadata": {},
   "source": [
    "---\n",
    "## [PEP 8](https://www.python.org/dev/peps/pep-0008/) style guide\n",
    "\n",
    "e.g. see [this explanation of PEP 8](https://realpython.com/python-pep8/) among many others...\n",
    "\n",
    "#### It is good practice to more or less conform to the coding style guide as it provides a uniform look and feel to all code making it easier for others to understand your code and vice versa.\n",
    "\n",
    "#### However, in my humble opinion you should NOT waste time conforming 100%. Just ensure your code is **READABLE** and **UNDERSTANDABLE**."
   ]
  },
  {
   "cell_type": "markdown",
   "metadata": {},
   "source": [
    "---\n",
    "## There are many more good practice coding suggestions out there...\n",
    "## But the above will get you most of the way to great code ;)"
   ]
  }
 ],
 "metadata": {
  "kernelspec": {
   "display_name": "Python 3",
   "language": "python",
   "name": "python3"
  },
  "language_info": {
   "codemirror_mode": {
    "name": "ipython",
    "version": 3
   },
   "file_extension": ".py",
   "mimetype": "text/x-python",
   "name": "python",
   "nbconvert_exporter": "python",
   "pygments_lexer": "ipython3",
   "version": "3.7.5"
  }
 },
 "nbformat": 4,
 "nbformat_minor": 4
}
