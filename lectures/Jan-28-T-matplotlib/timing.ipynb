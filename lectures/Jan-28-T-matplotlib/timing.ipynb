{
 "cells": [
  {
   "cell_type": "markdown",
   "metadata": {},
   "source": [
    "# Timing your code\n",
    "\n",
    "[Some useful info on code timing and profiling!](https://jakevdp.github.io/PythonDataScienceHandbook/01.07-timing-and-profiling.html)"
   ]
  },
  {
   "cell_type": "markdown",
   "metadata": {},
   "source": [
    "---\n",
    "## timeit"
   ]
  },
  {
   "cell_type": "code",
   "execution_count": 5,
   "metadata": {},
   "outputs": [],
   "source": [
    "import numpy as np"
   ]
  },
  {
   "cell_type": "code",
   "execution_count": 6,
   "metadata": {},
   "outputs": [
    {
     "name": "stdout",
     "output_type": "stream",
     "text": [
      "38.3 µs ± 565 ns per loop (mean ± std. dev. of 7 runs, 10000 loops each)\n"
     ]
    }
   ],
   "source": [
    "# Time a single line of code\n",
    "%timeit np.sum(np.arange(50000))"
   ]
  },
  {
   "cell_type": "code",
   "execution_count": 7,
   "metadata": {},
   "outputs": [
    {
     "name": "stdout",
     "output_type": "stream",
     "text": [
      "38.6 µs ± 377 ns per loop (mean ± std. dev. of 7 runs, 10000 loops each)\n"
     ]
    }
   ],
   "source": [
    "%%timeit  # Time an entire cell (%%timit must be at the start of the cell)\n",
    "# ... do stuff here, entire cell computation will be timed\n",
    "x = 5\n",
    "np.sum(np.arange(50000))"
   ]
  },
  {
   "cell_type": "code",
   "execution_count": null,
   "metadata": {},
   "outputs": [],
   "source": [
    "import timeit\n",
    "\n",
    "t0 = timeit.default_timer()\n",
    "np.sum(np.arange(50000))\n",
    "t1 = timeit.default_timer()\n",
    "print(t1 - t0, \"sec\")\n",
    "print((t1 - t0) * 1e6, \"us\")"
   ]
  },
  {
   "cell_type": "code",
   "execution_count": null,
   "metadata": {},
   "outputs": [],
   "source": [
    "t0 = timeit.default_timer()\n",
    "for i in range(1000):\n",
    "    np.sum(np.arange(50000))\n",
    "t1 = timeit.default_timer()\n",
    "print((t1 - t0) / 1000, \"sec\")\n",
    "print((t1 - t0) * 1e3, \"us\")"
   ]
  },
  {
   "cell_type": "markdown",
   "metadata": {},
   "source": [
    "## Compare NumPy with pure Python"
   ]
  },
  {
   "cell_type": "code",
   "execution_count": null,
   "metadata": {},
   "outputs": [],
   "source": [
    "%%timeit\n",
    "tot = 0\n",
    "for i in range(50000):\n",
    "    tot += i"
   ]
  },
  {
   "cell_type": "markdown",
   "metadata": {},
   "source": [
    "---\n",
    "## <font color=red>!!! STOP HERE !!!</font>\n",
    "\n",
    "#### We'll introduce Numba next lecture."
   ]
  },
  {
   "cell_type": "markdown",
   "metadata": {},
   "source": [
    "---\n",
    "## Numba\n",
    "\n",
    "#### Let's accelerate Python loops and NumPy computations!\n",
    "\n",
    "[A quick intro!](https://numba.pydata.org/numba-doc/dev/user/5minguide.html)"
   ]
  },
  {
   "cell_type": "code",
   "execution_count": null,
   "metadata": {},
   "outputs": [],
   "source": [
    "import numba\n",
    "# now we can use numba's jit submodule by calling numba.jit"
   ]
  },
  {
   "cell_type": "code",
   "execution_count": 8,
   "metadata": {},
   "outputs": [
    {
     "name": "stdout",
     "output_type": "stream",
     "text": [
      "[[  9.  10.  11.  12.  13.  14.  15.  16.  17.  18.]\n",
      " [ 19.  20.  21.  22.  23.  24.  25.  26.  27.  28.]\n",
      " [ 29.  30.  31.  32.  33.  34.  35.  36.  37.  38.]\n",
      " [ 39.  40.  41.  42.  43.  44.  45.  46.  47.  48.]\n",
      " [ 49.  50.  51.  52.  53.  54.  55.  56.  57.  58.]\n",
      " [ 59.  60.  61.  62.  63.  64.  65.  66.  67.  68.]\n",
      " [ 69.  70.  71.  72.  73.  74.  75.  76.  77.  78.]\n",
      " [ 79.  80.  81.  82.  83.  84.  85.  86.  87.  88.]\n",
      " [ 89.  90.  91.  92.  93.  94.  95.  96.  97.  98.]\n",
      " [ 99. 100. 101. 102. 103. 104. 105. 106. 107. 108.]]\n"
     ]
    }
   ],
   "source": [
    "x = np.arange(100).reshape(10, 10)\n",
    "\n",
    "def go_fast(mat): # Function is compiled to machine code when called the first time\n",
    "    trace = 0\n",
    "    rows = mat.shape[0]\n",
    "    for i in range(rows):          # Numba likes loops\n",
    "        trace += np.tanh(mat[i,i]) # Numba likes NumPy functions\n",
    "    return mat + trace             # Numba likes NumPy broadcasting\n",
    "\n",
    "print(go_fast(x))"
   ]
  },
  {
   "cell_type": "code",
   "execution_count": null,
   "metadata": {},
   "outputs": [],
   "source": [
    "%%timeit\n",
    "# 1. Make sure there are no lines such as \"@numba.jit\" just before the go_fast function definition.\n",
    "# 2. Rerun the cell defining go_fast.\n",
    "# 3. Run this cell.\n",
    "go_fast(x)"
   ]
  },
  {
   "cell_type": "markdown",
   "metadata": {},
   "source": [
    "## numba.jit\n",
    "\n",
    "just-in-time compiler"
   ]
  },
  {
   "cell_type": "code",
   "execution_count": null,
   "metadata": {},
   "outputs": [],
   "source": [
    "%%timeit\n",
    "# 1. Add the line \"@numba.jit\" just before the go_fast function definition.\n",
    "# 2. Rerun the cell defining go_fast.\n",
    "# 3. Run this cell.\n",
    "go_fast(x)"
   ]
  },
  {
   "cell_type": "markdown",
   "metadata": {},
   "source": [
    "## numba.njit\n",
    "\n",
    "no leftover Python"
   ]
  },
  {
   "cell_type": "code",
   "execution_count": null,
   "metadata": {},
   "outputs": [],
   "source": [
    "%%timeit\n",
    "# 1. Add the line \"@numba.njit\" just before the go_fast function definition.\n",
    "# 2. Rerun the cell defining go_fast.\n",
    "# 3. Run this cell.\n",
    "go_fast(x)"
   ]
  },
  {
   "cell_type": "markdown",
   "metadata": {},
   "source": [
    "## A Gotcha!"
   ]
  },
  {
   "cell_type": "markdown",
   "metadata": {},
   "source": [
    "!!! WARNING !!! Note that the full speedup from jit is only seen the *2nd time* the function is used! This is because there is overhead to perform the compilation the first time around."
   ]
  },
  {
   "cell_type": "code",
   "execution_count": null,
   "metadata": {},
   "outputs": [],
   "source": [
    "%%timeit\n",
    "# 1. Comment out the `print(go_fast(x))` line following the function definition.\n",
    "# 2. Rerun the cell defining go_fast.\n",
    "# 3. Run this cell.\n",
    "go_fast(x)"
   ]
  }
 ],
 "metadata": {
  "kernelspec": {
   "display_name": "Python 3",
   "language": "python",
   "name": "python3"
  },
  "language_info": {
   "codemirror_mode": {
    "name": "ipython",
    "version": 3
   },
   "file_extension": ".py",
   "mimetype": "text/x-python",
   "name": "python",
   "nbconvert_exporter": "python",
   "pygments_lexer": "ipython3",
   "version": "3.7.4"
  }
 },
 "nbformat": 4,
 "nbformat_minor": 4
}
