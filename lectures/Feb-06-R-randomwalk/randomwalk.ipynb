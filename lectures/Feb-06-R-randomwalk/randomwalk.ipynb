{
 "cells": [
  {
   "cell_type": "markdown",
   "metadata": {},
   "source": [
    "# Random Walk Lab"
   ]
  },
  {
   "cell_type": "code",
   "execution_count": 1,
   "metadata": {},
   "outputs": [],
   "source": [
    "import numpy as np\n",
    "import matplotlib.pyplot as plt\n",
    "from mpl_toolkits import mplot3d\n",
    "%config InlineBackend.figure_format = 'retina'"
   ]
  },
  {
   "cell_type": "markdown",
   "metadata": {},
   "source": [
    "---\n",
    "## Discrete random walk in one dimension\n",
    "\n",
    "Write a program that simulates a one-dimensional random walk amongst 100 discrete sites where each of 1000 identical and independent particles has equal probability to step in either direction at each time step. Treat the edges as reflecting (i.e. the particle moves back the other direction with 100% probability). Start the particles distributed uniformly at sites 11-15 and observe how they distribute as time progresses (i.e. keep track of all particle locations at each time point for later visualization). Make the probability of going left-vs-right a variable so that you can play around with it. Also make the number of time steps a variable so that you can easily run your program for any number of time steps.\n",
    "\n",
    "![](images/randomwalk1d.gif)"
   ]
  },
  {
   "cell_type": "markdown",
   "metadata": {},
   "source": [
    "1. How will you store the particle positions at each time step? *Hint: Allocate memory to store all of this data at the beginning of your program (e.g. one big numpy array).*"
   ]
  },
  {
   "cell_type": "raw",
   "metadata": {},
   "source": [
    "Making a numpy array that stores all the values and particles"
   ]
  },
  {
   "cell_type": "markdown",
   "metadata": {},
   "source": [
    "2. Write a very high level (*NO DETAILS*) conceptual description of your 1-D random walk program."
   ]
  },
  {
   "cell_type": "raw",
   "metadata": {},
   "source": [
    "evenly distribute 1000 particles at sites 11-15\n",
    "randomly move each particle right or left\n",
    "store new positions in the next column\n",
    "repeat for t time steps"
   ]
  },
  {
   "cell_type": "markdown",
   "metadata": {},
   "source": [
    "3. Write pseudocode for your 1-D discrete random walk program."
   ]
  },
  {
   "cell_type": "raw",
   "metadata": {},
   "source": [
    "FOR each time step\n",
    "    FOR each site\n",
    "        For each particle at this site\n",
    "            get random number and decide to move right or left \n",
    "            add particle to either left or right\n",
    "        ENDFOR\n",
    "    ENDFOR\n",
    "ENDFOR    "
   ]
  },
  {
   "cell_type": "markdown",
   "metadata": {},
   "source": [
    "4. Translate your pseudocode into code. Run your program for 2000 time steps."
   ]
  },
  {
   "cell_type": "code",
   "execution_count": 17,
   "metadata": {},
   "outputs": [],
   "source": [
    "numTimeSteps = 2000\n",
    "particles = np.zeros((numTimeSteps, 100)) #time steps are rows \n",
    "\n",
    "particles[0,10:15] = [200,200,200,200,200] #place initial particles\n",
    "\n",
    "for t in range(numTimeSteps-1):\n",
    "    for i in range(100):\n",
    "        numParticlesAti = particles[t,i]\n",
    "        if numParticlesAti == 0:\n",
    "            continue\n",
    "        for p in range(int(numParticlesAti)):\n",
    "            randomNum = np.random.random(1)\n",
    "            if randomNum < 0.5:\n",
    "                particles[t+1,i-1] += 1 \n",
    "            else: \n",
    "                 particles[t-1,i+1] += 1 "
   ]
  },
  {
   "cell_type": "markdown",
   "metadata": {},
   "source": [
    "5. Use a 2-D colormap to visually convey the particle locations at each time step. *Hint: plt.imshow(matrix2D, aspect='auto', cmap=plt.get_cmap('name'))*"
   ]
  },
  {
   "cell_type": "code",
   "execution_count": 6,
   "metadata": {
    "collapsed": true,
    "jupyter": {
     "outputs_hidden": true
    }
   },
   "outputs": [
    {
     "data": {
      "text/plain": [
       "['Accent',\n",
       " 'Accent_r',\n",
       " 'Blues',\n",
       " 'Blues_r',\n",
       " 'BrBG',\n",
       " 'BrBG_r',\n",
       " 'BuGn',\n",
       " 'BuGn_r',\n",
       " 'BuPu',\n",
       " 'BuPu_r',\n",
       " 'CMRmap',\n",
       " 'CMRmap_r',\n",
       " 'Dark2',\n",
       " 'Dark2_r',\n",
       " 'GnBu',\n",
       " 'GnBu_r',\n",
       " 'Greens',\n",
       " 'Greens_r',\n",
       " 'Greys',\n",
       " 'Greys_r',\n",
       " 'OrRd',\n",
       " 'OrRd_r',\n",
       " 'Oranges',\n",
       " 'Oranges_r',\n",
       " 'PRGn',\n",
       " 'PRGn_r',\n",
       " 'Paired',\n",
       " 'Paired_r',\n",
       " 'Pastel1',\n",
       " 'Pastel1_r',\n",
       " 'Pastel2',\n",
       " 'Pastel2_r',\n",
       " 'PiYG',\n",
       " 'PiYG_r',\n",
       " 'PuBu',\n",
       " 'PuBuGn',\n",
       " 'PuBuGn_r',\n",
       " 'PuBu_r',\n",
       " 'PuOr',\n",
       " 'PuOr_r',\n",
       " 'PuRd',\n",
       " 'PuRd_r',\n",
       " 'Purples',\n",
       " 'Purples_r',\n",
       " 'RdBu',\n",
       " 'RdBu_r',\n",
       " 'RdGy',\n",
       " 'RdGy_r',\n",
       " 'RdPu',\n",
       " 'RdPu_r',\n",
       " 'RdYlBu',\n",
       " 'RdYlBu_r',\n",
       " 'RdYlGn',\n",
       " 'RdYlGn_r',\n",
       " 'Reds',\n",
       " 'Reds_r',\n",
       " 'Set1',\n",
       " 'Set1_r',\n",
       " 'Set2',\n",
       " 'Set2_r',\n",
       " 'Set3',\n",
       " 'Set3_r',\n",
       " 'Spectral',\n",
       " 'Spectral_r',\n",
       " 'Wistia',\n",
       " 'Wistia_r',\n",
       " 'YlGn',\n",
       " 'YlGnBu',\n",
       " 'YlGnBu_r',\n",
       " 'YlGn_r',\n",
       " 'YlOrBr',\n",
       " 'YlOrBr_r',\n",
       " 'YlOrRd',\n",
       " 'YlOrRd_r',\n",
       " 'afmhot',\n",
       " 'afmhot_r',\n",
       " 'autumn',\n",
       " 'autumn_r',\n",
       " 'binary',\n",
       " 'binary_r',\n",
       " 'bone',\n",
       " 'bone_r',\n",
       " 'brg',\n",
       " 'brg_r',\n",
       " 'bwr',\n",
       " 'bwr_r',\n",
       " 'cividis',\n",
       " 'cividis_r',\n",
       " 'cool',\n",
       " 'cool_r',\n",
       " 'coolwarm',\n",
       " 'coolwarm_r',\n",
       " 'copper',\n",
       " 'copper_r',\n",
       " 'cubehelix',\n",
       " 'cubehelix_r',\n",
       " 'flag',\n",
       " 'flag_r',\n",
       " 'gist_earth',\n",
       " 'gist_earth_r',\n",
       " 'gist_gray',\n",
       " 'gist_gray_r',\n",
       " 'gist_heat',\n",
       " 'gist_heat_r',\n",
       " 'gist_ncar',\n",
       " 'gist_ncar_r',\n",
       " 'gist_rainbow',\n",
       " 'gist_rainbow_r',\n",
       " 'gist_stern',\n",
       " 'gist_stern_r',\n",
       " 'gist_yarg',\n",
       " 'gist_yarg_r',\n",
       " 'gnuplot',\n",
       " 'gnuplot2',\n",
       " 'gnuplot2_r',\n",
       " 'gnuplot_r',\n",
       " 'gray',\n",
       " 'gray_r',\n",
       " 'hot',\n",
       " 'hot_r',\n",
       " 'hsv',\n",
       " 'hsv_r',\n",
       " 'inferno',\n",
       " 'inferno_r',\n",
       " 'jet',\n",
       " 'jet_r',\n",
       " 'magma',\n",
       " 'magma_r',\n",
       " 'nipy_spectral',\n",
       " 'nipy_spectral_r',\n",
       " 'ocean',\n",
       " 'ocean_r',\n",
       " 'pink',\n",
       " 'pink_r',\n",
       " 'plasma',\n",
       " 'plasma_r',\n",
       " 'prism',\n",
       " 'prism_r',\n",
       " 'rainbow',\n",
       " 'rainbow_r',\n",
       " 'seismic',\n",
       " 'seismic_r',\n",
       " 'spring',\n",
       " 'spring_r',\n",
       " 'summer',\n",
       " 'summer_r',\n",
       " 'tab10',\n",
       " 'tab10_r',\n",
       " 'tab20',\n",
       " 'tab20_r',\n",
       " 'tab20b',\n",
       " 'tab20b_r',\n",
       " 'tab20c',\n",
       " 'tab20c_r',\n",
       " 'terrain',\n",
       " 'terrain_r',\n",
       " 'viridis',\n",
       " 'viridis_r',\n",
       " 'winter',\n",
       " 'winter_r']"
      ]
     },
     "execution_count": 6,
     "metadata": {},
     "output_type": "execute_result"
    }
   ],
   "source": [
    "plt.colormaps()"
   ]
  },
  {
   "cell_type": "code",
   "execution_count": null,
   "metadata": {},
   "outputs": [],
   "source": []
  },
  {
   "cell_type": "markdown",
   "metadata": {},
   "source": [
    "6. What is it that caused the particles to diffuse toward a uniform distribution? Does this pertain to molecular diffusion in cells, at synapses, etc.? How does Brownian motion affect this?"
   ]
  },
  {
   "cell_type": "code",
   "execution_count": null,
   "metadata": {},
   "outputs": [],
   "source": []
  },
  {
   "cell_type": "markdown",
   "metadata": {},
   "source": [
    "---\n",
    "## Discrete random walk in two dimensions\n",
    "\n",
    "Write a program simulating a two-dimensional random walk amongst 100x100 discrete sites with 1000 independent particles initially distributed uniformly at sites 11-12 in each dimension with 25% probability to step in each direction. Make it so that if a particle moves off of an edge of the 100x100 grid it enters from the opposite edge. Keep track of all particle locations at each time point and use plots to visually convey what is going on.\n",
    "\n",
    "![](images/randomwalk2d.gif)"
   ]
  },
  {
   "cell_type": "markdown",
   "metadata": {},
   "source": [
    "1. How will you store the particle positions at each time step? *Hint: Allocate memory to store all of this data at the beginning of your program (e.g. one big numpy array).*"
   ]
  },
  {
   "cell_type": "raw",
   "metadata": {},
   "source": []
  },
  {
   "cell_type": "markdown",
   "metadata": {},
   "source": [
    "2. Write a very high level (*NO DETAILS*) conceptual description of your 2-D random walk program."
   ]
  },
  {
   "cell_type": "raw",
   "metadata": {},
   "source": []
  },
  {
   "cell_type": "markdown",
   "metadata": {},
   "source": [
    "3. Write pseudocode for your 2-D discrete random walk program."
   ]
  },
  {
   "cell_type": "raw",
   "metadata": {},
   "source": []
  },
  {
   "cell_type": "markdown",
   "metadata": {},
   "source": [
    "4. Translate your pseudocode into code. Run your program for 2000 time steps."
   ]
  },
  {
   "cell_type": "code",
   "execution_count": null,
   "metadata": {},
   "outputs": [],
   "source": []
  },
  {
   "cell_type": "markdown",
   "metadata": {},
   "source": [
    "5. Use a series of 2-D colormaps at a handful of time points to visually convey the diffusion of the particles. *Hint: plt.imshow(matrix2D, aspect='auto', cmap=plt.get_cmap('name'))*"
   ]
  },
  {
   "cell_type": "code",
   "execution_count": null,
   "metadata": {},
   "outputs": [],
   "source": []
  },
  {
   "cell_type": "markdown",
   "metadata": {},
   "source": [
    "6. Make the probability of moving up and right greater than down and left. Resimulate and show plots to visualize."
   ]
  },
  {
   "cell_type": "code",
   "execution_count": null,
   "metadata": {},
   "outputs": [],
   "source": []
  }
 ],
 "metadata": {
  "kernelspec": {
   "display_name": "Python 3",
   "language": "python",
   "name": "python3"
  },
  "language_info": {
   "codemirror_mode": {
    "name": "ipython",
    "version": 3
   },
   "file_extension": ".py",
   "mimetype": "text/x-python",
   "name": "python",
   "nbconvert_exporter": "python",
   "pygments_lexer": "ipython3",
   "version": "3.7.4"
  }
 },
 "nbformat": 4,
 "nbformat_minor": 4
}
