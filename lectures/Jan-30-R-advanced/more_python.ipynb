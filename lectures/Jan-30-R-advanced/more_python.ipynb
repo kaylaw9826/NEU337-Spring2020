{
 "cells": [
  {
   "cell_type": "markdown",
   "metadata": {},
   "source": [
    "# More Python"
   ]
  },
  {
   "cell_type": "markdown",
   "metadata": {},
   "source": [
    "## Overview\n",
    "\n",
    "* unpacking\n",
    "* list comprehensions\n",
    "* functions\n",
    "* scope\n",
    "* classes\n",
    "* *.py files\n",
    "* Spyder IDE\n",
    "* modules\n",
    "* PEP style conventions"
   ]
  },
  {
   "cell_type": "markdown",
   "metadata": {},
   "source": [
    "---\n",
    "## Unpacking"
   ]
  },
  {
   "cell_type": "code",
   "execution_count": 8,
   "metadata": {},
   "outputs": [
    {
     "data": {
      "text/plain": [
       "(0, 1, 2, 3, 4)"
      ]
     },
     "execution_count": 8,
     "metadata": {},
     "output_type": "execute_result"
    }
   ],
   "source": [
    "mylist = [0, 1, 2, 3, 4]\n",
    "\n",
    "a, b, c, d, e = mylist\n",
    "\n",
    "a, b, c, d, e # you can unpack the list"
   ]
  },
  {
   "cell_type": "markdown",
   "metadata": {},
   "source": [
    "---\n",
    "## List Comprehensions\n",
    "\n",
    "#### values = [ expression *for* value *in* collection ]\n",
    "\n",
    "* [One of many websites on list comprehensions](https://treyhunner.com/2015/12/python-list-comprehensions-now-in-color/)\n",
    "* [Associated YouTube video with above URL](https://www.youtube.com/watch?v=5_cJIcgM7rw&feature=youtu.be&t=52s)"
   ]
  },
  {
   "cell_type": "code",
   "execution_count": null,
   "metadata": {},
   "outputs": [],
   "source": [
    "# collection: range(5)\n",
    "# denote each value in the collection as: x\n",
    "# for each value in the collection compute the expression: x\n",
    "\n",
    "# values 0-4\n",
    "[x for x in range(5)]"
   ]
  },
  {
   "cell_type": "code",
   "execution_count": null,
   "metadata": {},
   "outputs": [],
   "source": [
    "# square of values 0-4\n",
    "[x**2 for x in range(5)]"
   ]
  },
  {
   "cell_type": "code",
   "execution_count": null,
   "metadata": {},
   "outputs": [],
   "source": [
    "# List comprehensions are NOT necessary!!! They're just convenient.\n",
    "# List comprehensions replace for loops in a nice easy to read (usually) format.\n",
    "values = []\n",
    "for x in range(5):\n",
    "    values.append(x**2)\n",
    "\n",
    "values"
   ]
  },
  {
   "cell_type": "code",
   "execution_count": null,
   "metadata": {},
   "outputs": [],
   "source": [
    "# lowercase of all words in list\n",
    "[word.lower() for word in ['Alligator', 'MonKey', 'Elephant']]"
   ]
  },
  {
   "cell_type": "code",
   "execution_count": null,
   "metadata": {},
   "outputs": [],
   "source": [
    "# 'even' or 'odd' description of values 0-4\n",
    "['even' if x % 2 == 0 else 'odd'\n",
    " for x in range(5)\n",
    "]"
   ]
  },
  {
   "cell_type": "markdown",
   "metadata": {},
   "source": [
    "#### values = [ expression *for* value *in* collection <font color=blue>*if* condition</font> ]"
   ]
  },
  {
   "cell_type": "code",
   "execution_count": null,
   "metadata": {},
   "outputs": [],
   "source": [
    "# values in 0-4 within 1-3\n",
    "[i for i in range(5) if 1 <= i <= 3]"
   ]
  },
  {
   "cell_type": "markdown",
   "metadata": {},
   "source": [
    "#### values can be collections themselves (e.g. lists or tuples, etc.)"
   ]
  },
  {
   "cell_type": "code",
   "execution_count": null,
   "metadata": {},
   "outputs": [],
   "source": [
    "# pairs of indices (1-based) and square of values 0-4\n",
    "[(index+1, value**2) for (index, value) in enumerate(range(5))]"
   ]
  },
  {
   "cell_type": "markdown",
   "metadata": {},
   "source": [
    "#### values = [ expression *for* subcollection *in* collection *for* value *in* subcollection ]"
   ]
  },
  {
   "cell_type": "code",
   "execution_count": null,
   "metadata": {},
   "outputs": [],
   "source": [
    "import numpy as np\n",
    "matrix = np.array([[1, 2], [3, 4]])\n",
    "print(matrix)"
   ]
  },
  {
   "cell_type": "code",
   "execution_count": null,
   "metadata": {},
   "outputs": [],
   "source": [
    "# square of each value in each row of matrix\n",
    "[item**2 for row in matrix for item in row]"
   ]
  },
  {
   "cell_type": "code",
   "execution_count": null,
   "metadata": {},
   "outputs": [],
   "source": [
    "[item**2 for row in matrix for item in row if np.sum(row) > 3]"
   ]
  },
  {
   "cell_type": "markdown",
   "metadata": {},
   "source": [
    "#### !!! Use separate lines to make your comprehensions readable."
   ]
  },
  {
   "cell_type": "code",
   "execution_count": null,
   "metadata": {},
   "outputs": [],
   "source": [
    "[item**2\n",
    " for row in matrix\n",
    " for item in row\n",
    " if np.sum(row) > 3]"
   ]
  },
  {
   "cell_type": "markdown",
   "metadata": {},
   "source": [
    "## <font color=red>Exercises</font>"
   ]
  },
  {
   "cell_type": "markdown",
   "metadata": {},
   "source": [
    "1. Find all odd values in [0, 100] that are divisible by 3."
   ]
  },
  {
   "cell_type": "markdown",
   "metadata": {},
   "source": [
    "2. Make a list with the square root of each odd number in [10, 11, 12, 13, 14, 15]."
   ]
  },
  {
   "cell_type": "markdown",
   "metadata": {},
   "source": [
    "3. Make a list of the first letters of each of the words in [\"Alligator\", \"Monkey\", \"Elephant\"]."
   ]
  },
  {
   "cell_type": "markdown",
   "metadata": {},
   "source": [
    "---\n",
    "## Functions"
   ]
  },
  {
   "cell_type": "code",
   "execution_count": 1,
   "metadata": {},
   "outputs": [],
   "source": [
    "def say_hi(name):  # def functionName(function arguments):  <-- starts a function block\n",
    "    # indent implies within function block\n",
    "    print(\"Hi\", name)"
   ]
  },
  {
   "cell_type": "code",
   "execution_count": 2,
   "metadata": {},
   "outputs": [
    {
     "name": "stdout",
     "output_type": "stream",
     "text": [
      "Hi Tim\n"
     ]
    }
   ],
   "source": [
    "say_hi(\"Tim\")"
   ]
  },
  {
   "cell_type": "code",
   "execution_count": 3,
   "metadata": {},
   "outputs": [
    {
     "data": {
      "text/plain": [
       "function"
      ]
     },
     "execution_count": 3,
     "metadata": {},
     "output_type": "execute_result"
    }
   ],
   "source": [
    "type(say_hi)"
   ]
  },
  {
   "cell_type": "markdown",
   "metadata": {},
   "source": [
    "## return"
   ]
  },
  {
   "cell_type": "code",
   "execution_count": 4,
   "metadata": {},
   "outputs": [],
   "source": [
    "def add_numbers(x, y):\n",
    "    x + y"
   ]
  },
  {
   "cell_type": "code",
   "execution_count": 5,
   "metadata": {},
   "outputs": [],
   "source": [
    "add_numbers(3, 4.5)"
   ]
  },
  {
   "cell_type": "code",
   "execution_count": 6,
   "metadata": {},
   "outputs": [],
   "source": [
    "def add_numbers(x, y):\n",
    "    return x + y #shows result"
   ]
  },
  {
   "cell_type": "code",
   "execution_count": 7,
   "metadata": {},
   "outputs": [
    {
     "data": {
      "text/plain": [
       "7.5"
      ]
     },
     "execution_count": 7,
     "metadata": {},
     "output_type": "execute_result"
    }
   ],
   "source": [
    "z=add_numbers(3, 4.5) # assign number to a variable"
   ]
  },
  {
   "cell_type": "code",
   "execution_count": 9,
   "metadata": {},
   "outputs": [],
   "source": [
    "def get_sub_and_prod(x, y):\n",
    "    sub = x - y\n",
    "    prod = x * y\n",
    "    return sub, prod #a tuple is a list of a whole bunch of things"
   ]
  },
  {
   "cell_type": "code",
   "execution_count": 10,
   "metadata": {},
   "outputs": [
    {
     "data": {
      "text/plain": [
       "(-1, 6)"
      ]
     },
     "execution_count": 10,
     "metadata": {},
     "output_type": "execute_result"
    }
   ],
   "source": [
    "sub, prod = get_sub_and_prod(2, 3)\n",
    "sub, prod # unpack the result into these two products"
   ]
  },
  {
   "cell_type": "markdown",
   "metadata": {},
   "source": [
    "## Default arguments"
   ]
  },
  {
   "cell_type": "code",
   "execution_count": 11,
   "metadata": {},
   "outputs": [
    {
     "data": {
      "text/plain": [
       "5"
      ]
     },
     "execution_count": 11,
     "metadata": {},
     "output_type": "execute_result"
    }
   ],
   "source": [
    "def add_numbers(x, y=2):\n",
    "    return x + y\n",
    "\n",
    "z = add_numbers(3)\n",
    "z "
   ]
  },
  {
   "cell_type": "markdown",
   "metadata": {},
   "source": [
    "## Named arguments"
   ]
  },
  {
   "cell_type": "code",
   "execution_count": 12,
   "metadata": {},
   "outputs": [
    {
     "data": {
      "text/plain": [
       "(-1, 6)"
      ]
     },
     "execution_count": 12,
     "metadata": {},
     "output_type": "execute_result"
    }
   ],
   "source": [
    "sub, prod = get_sub_and_prod(x=2, y=3) #you can name functions so that you know what it does\n",
    "sub, prod"
   ]
  },
  {
   "cell_type": "code",
   "execution_count": 13,
   "metadata": {},
   "outputs": [
    {
     "data": {
      "text/plain": [
       "(-1, 6)"
      ]
     },
     "execution_count": 13,
     "metadata": {},
     "output_type": "execute_result"
    }
   ],
   "source": [
    "sub, prod = get_sub_and_prod(y=3, x=2)\n",
    "sub, prod"
   ]
  },
  {
   "cell_type": "markdown",
   "metadata": {},
   "source": [
    "## Variable scope"
   ]
  },
  {
   "cell_type": "code",
   "execution_count": 14,
   "metadata": {},
   "outputs": [
    {
     "data": {
      "text/plain": [
       "3"
      ]
     },
     "execution_count": 14,
     "metadata": {},
     "output_type": "execute_result"
    }
   ],
   "source": [
    "x = 3 # a defined variable does not necessarily exsist to all blocks of code, scoping this variable will only keep it in this block\n",
    "\n",
    "def myfunc(): # this x is in a different scope\n",
    "    x = 2\n",
    "\n",
    "myfunc()\n",
    "\n",
    "x"
   ]
  },
  {
   "cell_type": "markdown",
   "metadata": {},
   "source": [
    "## Immutable arguments are copied, whereas mutable arguments are passed by reference"
   ]
  },
  {
   "cell_type": "code",
   "execution_count": 15,
   "metadata": {},
   "outputs": [
    {
     "data": {
      "text/plain": [
       "3"
      ]
     },
     "execution_count": 15,
     "metadata": {},
     "output_type": "execute_result"
    }
   ],
   "source": [
    "x = 3\n",
    "\n",
    "def myfunc(x):\n",
    "    x = 2\n",
    "\n",
    "myfunc(x) # x is immutable\n",
    "\n",
    "x"
   ]
  },
  {
   "cell_type": "code",
   "execution_count": 16,
   "metadata": {},
   "outputs": [
    {
     "data": {
      "text/plain": [
       "[100, 2, 3]"
      ]
     },
     "execution_count": 16,
     "metadata": {},
     "output_type": "execute_result"
    }
   ],
   "source": [
    "x = [1,2,3] # x becomes immutable\n",
    "\n",
    "def myfunc(x):\n",
    "    x[0] = 100\n",
    "\n",
    "myfunc(x) \n",
    "\n",
    "x"
   ]
  },
  {
   "cell_type": "markdown",
   "metadata": {},
   "source": [
    "## <font color=red>Exercises</font>"
   ]
  },
  {
   "cell_type": "markdown",
   "metadata": {},
   "source": [
    "1. Write a function that takes a first and last name and returns the initials."
   ]
  },
  {
   "cell_type": "code",
   "execution_count": 39,
   "metadata": {},
   "outputs": [
    {
     "name": "stdout",
     "output_type": "stream",
     "text": [
      "k w\n"
     ]
    }
   ],
   "source": [
    "first = \"kayla\"\n",
    "last = \"wright\"\n",
    "def first_last(first,last):\n",
    "    print(first[0],last[0])\n",
    "first_last(first, last)\n",
    "\n"
   ]
  },
  {
   "cell_type": "markdown",
   "metadata": {},
   "source": [
    "2. Write a function that squares each element of the input array."
   ]
  },
  {
   "cell_type": "code",
   "execution_count": 44,
   "metadata": {},
   "outputs": [
    {
     "data": {
      "text/plain": [
       "array([1, 4, 9])"
      ]
     },
     "execution_count": 44,
     "metadata": {},
     "output_type": "execute_result"
    }
   ],
   "source": [
    "import numpy as np\n",
    "def square (array):\n",
    "    return array**2\n",
    "a = np.array([1,2,3])\n",
    "square(a)"
   ]
  },
  {
   "cell_type": "markdown",
   "metadata": {},
   "source": [
    "---\n",
    "## Classes\n",
    "\n",
    "Templates for object data and behavior."
   ]
  },
  {
   "cell_type": "code",
   "execution_count": null,
   "metadata": {},
   "outputs": [],
   "source": [
    "class classname: # class name of class: then a discription and a long discription\n",
    "    \"\"\" One line short descriptor\n",
    "    \n",
    "    Longer multi-line description\n",
    "    \"\"\"\n",
    "    \n",
    "    # Everything belonging to the class block\n",
    "    # ..."
   ]
  },
  {
   "cell_type": "markdown",
   "metadata": {},
   "source": [
    "## \\_\\_init__\n",
    "\n",
    "Special class method indicating how to creat an object of that class type."
   ]
  },
  {
   "cell_type": "code",
   "execution_count": 48,
   "metadata": {},
   "outputs": [],
   "source": [
    "class vec3:\n",
    "    \"\"\" (x, y, z) vector\n",
    "    \n",
    "    Supports operations such as translation.\n",
    "    \"\"\"\n",
    "    \n",
    "    def __init__(self, x=0, y=0, z=0): #have to make the fuction with init. the self a reference to this instance of this class. 'initialization for classes'\n",
    "        self.x = x\n",
    "        self.y = y # self refers to the particular object we are dealing with 'self.attribute'\n",
    "        self.z = z"
   ]
  },
  {
   "cell_type": "code",
   "execution_count": 49,
   "metadata": {},
   "outputs": [
    {
     "data": {
      "text/plain": [
       "<__main__.vec3 at 0x113622e10>"
      ]
     },
     "execution_count": 49,
     "metadata": {},
     "output_type": "execute_result"
    }
   ],
   "source": [
    "v = vec3(1,2,3)\n",
    "v # python does not know how to print out vec3"
   ]
  },
  {
   "cell_type": "code",
   "execution_count": 50,
   "metadata": {},
   "outputs": [
    {
     "data": {
      "text/plain": [
       "(1, 2, 3)"
      ]
     },
     "execution_count": 50,
     "metadata": {},
     "output_type": "execute_result"
    }
   ],
   "source": [
    "v.x, v.y, v.z # so you have to do v.variable"
   ]
  },
  {
   "cell_type": "code",
   "execution_count": 51,
   "metadata": {},
   "outputs": [
    {
     "data": {
      "text/plain": [
       "(10, 20, 30)"
      ]
     },
     "execution_count": 51,
     "metadata": {},
     "output_type": "execute_result"
    }
   ],
   "source": [
    "v.x, v.y, v.z = (10, 20, 30) #mutable, tuple can be changed\n",
    "v.x, v.y, v.z"
   ]
  },
  {
   "cell_type": "code",
   "execution_count": 53,
   "metadata": {},
   "outputs": [
    {
     "name": "stdout",
     "output_type": "stream",
     "text": [
      "<__main__.vec3 object at 0x11362e750>\n"
     ]
    },
    {
     "data": {
      "text/plain": [
       "(0, 0, 0)"
      ]
     },
     "execution_count": 53,
     "metadata": {},
     "output_type": "execute_result"
    }
   ],
   "source": [
    "# !!! Predict the vector's values before you run this cell.\n",
    "a = vec3()\n",
    "print(a)\n",
    "a.x, a.y, a.z # python will assume 0 if nothing assigned"
   ]
  },
  {
   "cell_type": "markdown",
   "metadata": {},
   "source": [
    "## \\_\\_repr__\n",
    "\n",
    "Special class method indicating how to display (print) this class object."
   ]
  },
  {
   "cell_type": "code",
   "execution_count": 54,
   "metadata": {},
   "outputs": [],
   "source": [
    "class vec3:\n",
    "    # From here on I've omitted the class description for brevity.\n",
    "    \n",
    "    def __init__(self, x=0, y=0, z=0):\n",
    "        self.x = x\n",
    "        self.y = y\n",
    "        self.z = z\n",
    "    \n",
    "    def __repr__(self): # representation function helps python print out vectors\n",
    "        \"\"\" Return (x, y, z) \"\"\"\n",
    "        return f\"({self.x}, {self.y}, {self.z})\""
   ]
  },
  {
   "cell_type": "code",
   "execution_count": 55,
   "metadata": {},
   "outputs": [
    {
     "data": {
      "text/plain": [
       "(1, 2, 3)"
      ]
     },
     "execution_count": 55,
     "metadata": {},
     "output_type": "execute_result"
    }
   ],
   "source": [
    "v = vec3(1,2,3)\n",
    "v"
   ]
  },
  {
   "cell_type": "markdown",
   "metadata": {},
   "source": [
    "## self"
   ]
  },
  {
   "cell_type": "code",
   "execution_count": 61,
   "metadata": {},
   "outputs": [],
   "source": [
    "class vec3:\n",
    "    \n",
    "    def __init__(self, x=0, y=0, z=0):\n",
    "        self.x = x\n",
    "        self.y = y\n",
    "        self.z = z\n",
    "        x = 100  # <-- What do these last 4 lines do? They do nothing and are only local values because they do not reference self\n",
    "        y = 200\n",
    "        z = 300\n",
    "        q = 0.5\n",
    "    \n",
    "    def __repr__(self):\n",
    "        \"\"\" Return (x, y, z) \"\"\"\n",
    "        return f\"({self.x}, {self.y}, {self.z})\""
   ]
  },
  {
   "cell_type": "code",
   "execution_count": 62,
   "metadata": {},
   "outputs": [
    {
     "data": {
      "text/plain": [
       "(1, 2, 3)"
      ]
     },
     "execution_count": 62,
     "metadata": {},
     "output_type": "execute_result"
    }
   ],
   "source": [
    "v = vec3(1,2,3)\n",
    "v"
   ]
  },
  {
   "cell_type": "markdown",
   "metadata": {},
   "source": [
    "## <font color=red>Exercises</font>"
   ]
  },
  {
   "cell_type": "markdown",
   "metadata": {},
   "source": [
    "1. Fix the **\\_\\_repr__** method in the above definition of **vec3** and rerun the above two code cells.\n",
    "you have to put self.xyz not just self in repr function"
   ]
  },
  {
   "cell_type": "markdown",
   "metadata": {},
   "source": [
    "## custom methods"
   ]
  },
  {
   "cell_type": "code",
   "execution_count": null,
   "metadata": {},
   "outputs": [],
   "source": [
    "class vec3:\n",
    "    \n",
    "    def __init__(self, x=0, y=0, z=0):\n",
    "        self.x = x\n",
    "        self.y = y\n",
    "        self.z = z\n",
    "    \n",
    "    def __repr__(self):\n",
    "        \"\"\" Return (x, y, z) \"\"\"\n",
    "        return f\"({self.x}, {self.y}, {self.z})\"\n",
    "    \n",
    "    def translate(self, dx, dy, dz):\n",
    "        \"\"\" Translate by (dx, dy, dz) \"\"\"\n",
    "        self.x += dx\n",
    "        self.y += dy\n",
    "        self.z += dz\n",
    "    \n",
    "    def add(self, vec):\n",
    "        \"\"\" Return the sum of this vector and the input vector. \"\"\"\n",
    "        newvec = vec3()\n",
    "        newvec.x = self.x + vec.x\n",
    "        newvec.y = self.y + vec.y\n",
    "        newvec.z = self.z + vec.z\n",
    "        return newvec"
   ]
  },
  {
   "cell_type": "code",
   "execution_count": null,
   "metadata": {},
   "outputs": [],
   "source": [
    "v = vec3(1,2,3)\n",
    "v.translate(1,2,3)\n",
    "v"
   ]
  },
  {
   "cell_type": "code",
   "execution_count": null,
   "metadata": {},
   "outputs": [],
   "source": [
    "v = vec3(1,2,3)\n",
    "b = vec3(1,1,1)\n",
    "c = v.add(b)\n",
    "c"
   ]
  },
  {
   "cell_type": "markdown",
   "metadata": {},
   "source": [
    "## class objects are mutable"
   ]
  },
  {
   "cell_type": "code",
   "execution_count": null,
   "metadata": {},
   "outputs": [],
   "source": [
    "class vec3:\n",
    "    \n",
    "    def __init__(self, x=0, y=0, z=0):\n",
    "        self.x = x\n",
    "        self.y = y\n",
    "        self.z = z\n",
    "    \n",
    "    def __repr__(self):\n",
    "        \"\"\" Return (x, y, z) \"\"\"\n",
    "        return f\"({self.x}, {self.y}, {self.z})\"\n",
    "    \n",
    "    def copyinto(self, vec):\n",
    "        \"\"\" Return the sum of this vector and the input vector. \"\"\"\n",
    "        vec.x = self.x\n",
    "        vec.y = self.y\n",
    "        vec.z = self.z"
   ]
  },
  {
   "cell_type": "code",
   "execution_count": null,
   "metadata": {},
   "outputs": [],
   "source": [
    "a = vec3(1,2,3)\n",
    "b = vec3(4,5,6)\n",
    "print(a)\n",
    "print(b)"
   ]
  },
  {
   "cell_type": "code",
   "execution_count": null,
   "metadata": {},
   "outputs": [],
   "source": [
    "a.copyinto(b)\n",
    "b"
   ]
  },
  {
   "cell_type": "markdown",
   "metadata": {},
   "source": [
    "## <font color=red>Exercises</font>"
   ]
  },
  {
   "cell_type": "code",
   "execution_count": null,
   "metadata": {},
   "outputs": [],
   "source": [
    "class vec3:\n",
    "    \n",
    "    def __init__(self, x=0, y=0, z=0):\n",
    "        self.x = x\n",
    "        self.y = y\n",
    "        self.z = z\n",
    "    \n",
    "    def __repr__(self):\n",
    "        \"\"\" Return (x, y, z) \"\"\"\n",
    "        return f\"({self.x}, {self.y}, {self.z})\"\n",
    "    \n",
    "    def setXto100():\n",
    "        # This should set the vector's x value to 100.\n",
    "        x = 100"
   ]
  },
  {
   "cell_type": "markdown",
   "metadata": {},
   "source": [
    "1. What's wrong with the **setXto100** method above? Fix it so that it does what it is supposed to do (set the vector's x value to 100)."
   ]
  },
  {
   "cell_type": "markdown",
   "metadata": {},
   "source": [
    "## class template attributes"
   ]
  },
  {
   "cell_type": "code",
   "execution_count": null,
   "metadata": {},
   "outputs": [],
   "source": [
    "class vec3:\n",
    "    \n",
    "    # attributes shared by all instances of vec3 class objects\n",
    "    w = 1\n",
    "    \n",
    "    def __init__(self, x=0, y=0, z=0):\n",
    "        self.x = x\n",
    "        self.y = y\n",
    "        self.z = z\n",
    "    \n",
    "    def __repr__(self):\n",
    "        \"\"\" Return (x, y, z) \"\"\"\n",
    "        return f\"({self.x}, {self.y}, {self.z}, {vec3.w})\""
   ]
  },
  {
   "cell_type": "code",
   "execution_count": null,
   "metadata": {},
   "outputs": [],
   "source": [
    "v = vec3(1,2,3)\n",
    "v"
   ]
  },
  {
   "cell_type": "code",
   "execution_count": null,
   "metadata": {},
   "outputs": [],
   "source": [
    "a = vec3(4,5,6)\n",
    "a"
   ]
  },
  {
   "cell_type": "code",
   "execution_count": null,
   "metadata": {},
   "outputs": [],
   "source": [
    "vec3.w = 0.5\n",
    "print(v)\n",
    "print(a)"
   ]
  },
  {
   "cell_type": "markdown",
   "metadata": {},
   "source": [
    "## class attributes"
   ]
  },
  {
   "cell_type": "code",
   "execution_count": null,
   "metadata": {},
   "outputs": [],
   "source": [
    "vec3.__dict__"
   ]
  },
  {
   "cell_type": "code",
   "execution_count": null,
   "metadata": {},
   "outputs": [],
   "source": [
    "vec3.__dict__[\"w\"]"
   ]
  },
  {
   "cell_type": "code",
   "execution_count": null,
   "metadata": {},
   "outputs": [],
   "source": [
    "v.__dict__"
   ]
  },
  {
   "cell_type": "markdown",
   "metadata": {},
   "source": [
    "## class inheritance"
   ]
  },
  {
   "cell_type": "code",
   "execution_count": 32,
   "metadata": {},
   "outputs": [],
   "source": [
    "class vec4(vec3):  # vec4 inherits from vec3\n",
    "    \"\"\" (x, y, z, w) vector\n",
    "    \"\"\"\n",
    "    def __init__(self, x=0, y=0, z=0, w=1):\n",
    "        vec3.__init__(self, x, y, z)\n",
    "        self.w = w\n",
    "    \n",
    "    def __repr__(self):\n",
    "        \"\"\" Return (x, y, z, w)\n",
    "        \"\"\"\n",
    "        return f\"({self.x}, {self.y}, {self.z}, {self.w})\""
   ]
  },
  {
   "cell_type": "code",
   "execution_count": 33,
   "metadata": {},
   "outputs": [
    {
     "data": {
      "text/plain": [
       "(1, 2, 3, 0.5)"
      ]
     },
     "execution_count": 33,
     "metadata": {},
     "output_type": "execute_result"
    }
   ],
   "source": [
    "v = vec4(1,2,3,0.5)\n",
    "v"
   ]
  },
  {
   "cell_type": "markdown",
   "metadata": {},
   "source": [
    "---\n",
    "## *.py files and the Spyder IDE\n",
    "\n",
    "Integrated Development Environment (IDE)\n",
    "\n",
    "#### Open and explore `myfile.py` in Spyder.\n",
    "\n",
    "Walk through the file and compare Spyder to the JupyterLab environment."
   ]
  },
  {
   "cell_type": "markdown",
   "metadata": {},
   "source": [
    "---\n",
    "## Modules\n",
    "\n",
    "#### Open and explore `mymodule.py`"
   ]
  },
  {
   "cell_type": "code",
   "execution_count": null,
   "metadata": {},
   "outputs": [],
   "source": [
    "# For the import to work, mymodule.py must be in Python's path.\n",
    "# For now, the simplest way to assure this is to put mymodule.py in the same folder as this notebook file.\n",
    "import mymodule\n",
    "\n",
    "a = mymodule.vec3(1,2,3)\n",
    "b = mymodule.vec4(10,20,30)\n",
    "\n",
    "print(a)\n",
    "print(b)"
   ]
  },
  {
   "cell_type": "code",
   "execution_count": null,
   "metadata": {},
   "outputs": [],
   "source": [
    "from mymodule import vec3\n",
    "\n",
    "a = vec3(x=1, z=3)\n",
    "a"
   ]
  },
  {
   "cell_type": "code",
   "execution_count": null,
   "metadata": {},
   "outputs": [],
   "source": [
    "a.translate(10, 10, 10)\n",
    "a"
   ]
  },
  {
   "cell_type": "markdown",
   "metadata": {},
   "source": [
    "---\n",
    "## PEP 8 style guide\n",
    "\n",
    "e.g. see [this PEP 8 cheatsheet](https://gist.github.com/RichardBronosky/454964087739a449da04) or [this explanation of PEP 8](https://realpython.com/python-pep8/) among many others...\n",
    "\n",
    "#### It is good practice to more or less conform to the coding style guide as it provides a uniform look and feel to all code making it easier for others to understand your code and vice versa.\n",
    "\n",
    "#### However, in my humble opinion you should NOT waste too much time conforming 100%. Just ensure your code is READABLE!!!."
   ]
  },
  {
   "cell_type": "code",
   "execution_count": null,
   "metadata": {},
   "outputs": [],
   "source": []
  }
 ],
 "metadata": {
  "kernelspec": {
   "display_name": "Python 3",
   "language": "python",
   "name": "python3"
  },
  "language_info": {
   "codemirror_mode": {
    "name": "ipython",
    "version": 3
   },
   "file_extension": ".py",
   "mimetype": "text/x-python",
   "name": "python",
   "nbconvert_exporter": "python",
   "pygments_lexer": "ipython3",
   "version": "3.7.4"
  }
 },
 "nbformat": 4,
 "nbformat_minor": 4
}
