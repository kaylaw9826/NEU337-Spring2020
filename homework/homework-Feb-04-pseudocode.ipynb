{
 "cells": [
  {
   "cell_type": "markdown",
   "metadata": {},
   "source": [
    "# Homework (8 pts) - Pseudocode\n",
    "\n",
    "Questions below refer to the **Selection Sort** algorithm. See image depiction below.\n",
    "\n",
    "![Selection Sort](images/selectionsort.jpg)"
   ]
  },
  {
   "cell_type": "markdown",
   "metadata": {},
   "source": [
    "1. (2 pt) Write a breif dscription of how you would implement the selection sort algorithm."
   ]
  },
  {
   "cell_type": "markdown",
   "metadata": {},
   "source": [
    "Loop through every number comparing last to first by seeing which one is greater or less than to the other. If greater than, swap these numbers. Continue comparing when the numbers are in order."
   ]
  },
  {
   "cell_type": "markdown",
   "metadata": {},
   "source": [
    "2. (3 pts) Write pseudocode for a function that implements the selection sort algorithm on an input array."
   ]
  },
  {
   "cell_type": "markdown",
   "metadata": {},
   "source": [
    "WHILE list not sorted\n",
    "    FOR range of numbers in the list plus one, called a \n",
    "            make variable that is the least (a)\n",
    "                FOR b range of numbers in list plus one\n",
    "                    IF list(b) < list (least number)\n",
    "                        NOW leas variable is b\n",
    "                        swap\n",
    "                        else keep order\n",
    "                    END IF\n",
    "                END FOR\n",
    "     END FOR\n",
    "ENDWHILE"
   ]
  },
  {
   "cell_type": "markdown",
   "metadata": {},
   "source": [
    "3. (3 pts) Translate your pseudocode to code and show that your sorting function works."
   ]
  },
  {
   "cell_type": "code",
   "execution_count": 4,
   "metadata": {},
   "outputs": [],
   "source": [
    "mylist = [7,4,5,9,8,2,1]\n",
    "def selectionSort(mylist):\n",
    "    for a in range(0, len(mylist) - 1):\n",
    "        least = a\n",
    "        for b in range(a + 1, len(mylist)):\n",
    "             if mylist[b] < mylist[least]:\n",
    "                    least = b\n",
    "                    mylist[a], mylist[least] = mylist[least], mylist[a] #swaps the items"
   ]
  },
  {
   "cell_type": "code",
   "execution_count": 5,
   "metadata": {},
   "outputs": [
    {
     "name": "stdout",
     "output_type": "stream",
     "text": [
      "[1, 2, 5, 4, 7, 8, 9]\n"
     ]
    }
   ],
   "source": [
    "selectionSort(mylist)\n",
    "print(mylist)"
   ]
  }
 ],
 "metadata": {
  "kernelspec": {
   "display_name": "Python 3",
   "language": "python",
   "name": "python3"
  },
  "language_info": {
   "codemirror_mode": {
    "name": "ipython",
    "version": 3
   },
   "file_extension": ".py",
   "mimetype": "text/x-python",
   "name": "python",
   "nbconvert_exporter": "python",
   "pygments_lexer": "ipython3",
   "version": "3.7.4"
  }
 },
 "nbformat": 4,
 "nbformat_minor": 4
}
