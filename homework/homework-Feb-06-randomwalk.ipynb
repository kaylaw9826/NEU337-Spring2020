{
 "cells": [
  {
   "cell_type": "markdown",
   "metadata": {},
   "source": [
    "# Homework (20 pts) - Random Walk"
   ]
  },
  {
   "cell_type": "markdown",
   "metadata": {},
   "source": [
    "---\n",
    "## Continuous random walk in three dimensions\n",
    "\n",
    "Write a program simulating a three-dimensional random walk in a continuous space. Let 1000 independent particles all start at random positions within a cube with corners at (0,0,0) and (1,1,1). At each time step each particle will move in a random direction by a random amount between -1 and 1 along each axis (x, y, z)."
   ]
  },
  {
   "cell_type": "code",
   "execution_count": 9,
   "metadata": {},
   "outputs": [],
   "source": [
    "import numpy as np\n",
    "import matplotlib.pyplot as plt\n",
    "from mpl_toolkits import mplot3d\n",
    "%config InlineBackend.figure_format = 'retina'"
   ]
  },
  {
   "cell_type": "markdown",
   "metadata": {},
   "source": [
    "1. (4 pts) Write pseudocode for your 3-D continuous random walk program."
   ]
  },
  {
   "cell_type": "markdown",
   "metadata": {},
   "source": [
    "FOR each time step\n",
    "    FOR each site\n",
    "        For each particle at this site\n",
    "            get random number and decide to move right or left \n",
    "            get random number and decide to move up or down\n",
    "            get random number and decide to move in a random diagonal\n",
    "            add particle to either left or right\n",
    "            add particle to up or down\n",
    "            add particle to random z axis motion\n",
    "        ENDFOR\n",
    "    ENDFOR\n",
    "ENDFOR    "
   ]
  },
  {
   "cell_type": "markdown",
   "metadata": {},
   "source": [
    "FOR each time step\n",
    "    FOR each site\n",
    "        For each particle at this site\n",
    "            get random number and decide to move right or left \n",
    "            get random number and decide to move up or down\n",
    "            get random number and decide to move randomly on z\n",
    "            add particle to either left or right\n",
    "            add particle to either up or down\n",
    "            add particle to move across the z\n",
    "        ENDFOR\n",
    "    ENDFOR\n",
    "ENDFOR    "
   ]
  },
  {
   "cell_type": "markdown",
   "metadata": {},
   "source": [
    "2. (3 pts) Translate your pseudocode into code. Run your program for 2000 time steps."
   ]
  },
  {
   "cell_type": "code",
   "execution_count": null,
   "metadata": {},
   "outputs": [],
   "source": [
    "numTimeSteps = 2000\n",
    "particles = np.zeros((numTimeSteps, 1000))\n",
    "\n",
    "particles[1000] \n",
    "for t in range(numTimeSteps-1):\n",
    "    for i in range(1000):\n",
    "        numParticlesAti = particles[t,i]\n",
    "        for k in range(1000):\n",
    "            numParticlesAtK = particles[t,k]\n",
    "            for j in range(1000):\n",
    "                numParticlesAtJ = particles[t,j]\n",
    "                if numParticlesAti == 0:\n",
    "                    continue\n",
    "                    for p in range(int(numParticlesAti)):\n",
    "                        randomNum = np.random.random(1)\n",
    "                        if randomNum < 0.5:\n",
    "                            particles[t+1,i-1] += 1 \n",
    "                        else: \n",
    "                            particles[t-1,i+1] += 1\n",
    "                        if randomNum < 0.2:\n",
    "                            particles[k+1,i-1] += 1 \n",
    "                        else: \n",
    "                            particles[k-1,i+1] += 1\n",
    "                        if randomNum < 0.8:\n",
    "                            particles[j+1,i-1] += 1 \n",
    "                        else: \n",
    "                            particles[j-1,i+1] += 1       "
   ]
  },
  {
   "cell_type": "markdown",
   "metadata": {},
   "source": [
    "3. (3 pts) Generate a series of four 3-D scatter plots at selected time points to visually convey what is going on. Arrange the plots in a single row from left to right. Make sure you indicate which time points you are showing."
   ]
  },
  {
   "cell_type": "code",
   "execution_count": null,
   "metadata": {},
   "outputs": [],
   "source": []
  },
  {
   "cell_type": "markdown",
   "metadata": {},
   "source": [
    "4. (3 pts) Draw the path of a single particle (your choice) across all time points on a 3-D plot."
   ]
  },
  {
   "cell_type": "markdown",
   "metadata": {},
   "source": [
    "5. (4 pts) Find the minimum, maximum, mean and variance for the jump distances of all particles throughout the entire simulation. Jump distance is the euclidean distance moved on each time step $\\sqrt(dx^2+dy^2+dz^2)$. *Hint: numpy makes this very simple.*"
   ]
  },
  {
   "cell_type": "markdown",
   "metadata": {},
   "source": [
    "6. (3 pts) Repeat the simulation, but this time confine the particles to a unit cell of dimension 10x10x10. Make it so that if a particle leaves one edge of the cell, it enters on the opposite edge (this is the sort of thing most molecular dynamics simulations do). Show plots as in #3 to visualize the simulation."
   ]
  }
 ],
 "metadata": {
  "kernelspec": {
   "display_name": "Python 3",
   "language": "python",
   "name": "python3"
  },
  "language_info": {
   "codemirror_mode": {
    "name": "ipython",
    "version": 3
   },
   "file_extension": ".py",
   "mimetype": "text/x-python",
   "name": "python",
   "nbconvert_exporter": "python",
   "pygments_lexer": "ipython3",
   "version": "3.7.4"
  }
 },
 "nbformat": 4,
 "nbformat_minor": 4
}
