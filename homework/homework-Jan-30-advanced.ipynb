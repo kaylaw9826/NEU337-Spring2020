{
 "cells": [
  {
   "cell_type": "markdown",
   "metadata": {},
   "source": [
    "# Homework (10 pts) - More Advanced Python"
   ]
  },
  {
   "cell_type": "code",
   "execution_count": 25,
   "metadata": {},
   "outputs": [],
   "source": [
    "import numpy as np\n",
    "import matplotlib.pyplot as plt\n",
    "%config InlineBackend.figure_format = 'retina'"
   ]
  },
  {
   "cell_type": "markdown",
   "metadata": {},
   "source": [
    "1. (1 pt) Use a list coprehension to find all odd values in [1, 100] that are divisible by 9."
   ]
  },
  {
   "cell_type": "code",
   "execution_count": 14,
   "metadata": {},
   "outputs": [
    {
     "data": {
      "text/plain": [
       "[9, 27, 45, 63, 81, 99]"
      ]
     },
     "execution_count": 14,
     "metadata": {},
     "output_type": "execute_result"
    }
   ],
   "source": [
    "divisNine = [i for i in range(1,101) if i % 9 == 0 and i % 2 != 0]\n",
    "divisNine"
   ]
  },
  {
   "cell_type": "markdown",
   "metadata": {},
   "source": [
    "2. (1 pt) Use a list comprehension to find the square root of each odd number in [10, 11, 12, 13, 14, 15]."
   ]
  },
  {
   "cell_type": "code",
   "execution_count": 18,
   "metadata": {},
   "outputs": [
    {
     "data": {
      "text/plain": [
       "[3.3166247903554, 3.605551275463989, 3.872983346207417]"
      ]
     },
     "execution_count": 18,
     "metadata": {},
     "output_type": "execute_result"
    }
   ],
   "source": [
    "import math\n",
    "numTwo = [10,11,12,13,14,15]\n",
    "listTwo = [math.sqrt(i) for i in numTwo if i % 2 != 0]\n",
    "listTwo"
   ]
  },
  {
   "cell_type": "markdown",
   "metadata": {},
   "source": [
    "3. (1 pt) For the 3x3 matrix **mat** below, use a list comprehension to find the square of the last column in every other row."
   ]
  },
  {
   "cell_type": "code",
   "execution_count": 21,
   "metadata": {},
   "outputs": [
    {
     "data": {
      "text/plain": [
       "array([[7, 5, 5],\n",
       "       [8, 5, 9],\n",
       "       [9, 6, 2]])"
      ]
     },
     "execution_count": 21,
     "metadata": {},
     "output_type": "execute_result"
    }
   ],
   "source": [
    "mat = np.random.randint(0, 10, (3,3))\n",
    "mat"
   ]
  },
  {
   "cell_type": "code",
   "execution_count": 30,
   "metadata": {},
   "outputs": [
    {
     "data": {
      "text/plain": [
       "[25, 4]"
      ]
     },
     "execution_count": 30,
     "metadata": {},
     "output_type": "execute_result"
    }
   ],
   "source": [
    "numThree = [i**2 for i in mat[::2, -1]]\n",
    "numThree"
   ]
  },
  {
   "cell_type": "markdown",
   "metadata": {},
   "source": [
    "4. (1 pt) Write a function that converts Farenheit to Celcius and use it to plot Celcius vs Farenheit for Farenheit values from 0 to 100 in unit steps. Make sure to label axes."
   ]
  },
  {
   "cell_type": "code",
   "execution_count": 124,
   "metadata": {},
   "outputs": [],
   "source": [
    "def convert(f):\n",
    "    c = ((f - 32) * (5.0/9.0))\n",
    "    return c"
   ]
  },
  {
   "cell_type": "code",
   "execution_count": 131,
   "metadata": {},
   "outputs": [
    {
     "data": {
      "image/png": "[encoded data removed]",
      "text/plain": [
       "<Figure size 432x288 with 1 Axes>"
      ]
     },
     "metadata": {
      "image/png": {
       "height": 277,
       "width": 390
      },
      "needs_background": "light"
     },
     "output_type": "display_data"
    }
   ],
   "source": [
    "f = [0,100,1]\n",
    "c = [convert(f) for f in f]\n",
    "plt.plot(F,c)\n",
    "plt.xlabel(\"Farenheit\")\n",
    "plt.ylabel(\"Celcius\")\n",
    "plt.title(\"Question 4\");"
   ]
  },
  {
   "cell_type": "markdown",
   "metadata": {},
   "source": [
    "5. (1 pt) Write a function that returns the sum, difference, product and ratio of two values such that the second value defaults to 5. Use it on the value 3."
   ]
  },
  {
   "cell_type": "code",
   "execution_count": 12,
   "metadata": {},
   "outputs": [
    {
     "data": {
      "text/plain": [
       "(8, -2, 15, 0.6)"
      ]
     },
     "execution_count": 12,
     "metadata": {},
     "output_type": "execute_result"
    }
   ],
   "source": [
    "def numFive(x,y=5): #ask\n",
    "    a = x+y\n",
    "    b = x-y\n",
    "    c = x*y\n",
    "    d = x/y\n",
    "    return (a,b,c,d)\n",
    "numFive(3) "
   ]
  },
  {
   "cell_type": "markdown",
   "metadata": {},
   "source": [
    "6. (1 pt) Use Numba to accelerate the above function and time it with and without acceleration given a single input of a 10000 element array of random values between 0 and 1."
   ]
  },
  {
   "cell_type": "code",
   "execution_count": 13,
   "metadata": {},
   "outputs": [
    {
     "name": "stdout",
     "output_type": "stream",
     "text": [
      "24.9 µs ± 167 ns per loop (mean ± std. dev. of 7 runs, 10000 loops each)\n"
     ]
    }
   ],
   "source": [
    "k = np.random.randint(2, size=10000)\n",
    "%timeit numFive(k) "
   ]
  },
  {
   "cell_type": "code",
   "execution_count": 6,
   "metadata": {},
   "outputs": [],
   "source": [
    "import numba"
   ]
  },
  {
   "cell_type": "code",
   "execution_count": 7,
   "metadata": {},
   "outputs": [
    {
     "name": "stdout",
     "output_type": "stream",
     "text": [
      "(array([5, 5, 6, ..., 5, 6, 6]), array([-5, -5, -4, ..., -5, -4, -4]), array([0, 0, 5, ..., 0, 5, 5]), array([0. , 0. , 0.2, ..., 0. , 0.2, 0.2]))\n"
     ]
    }
   ],
   "source": [
    "print(numFive(k))"
   ]
  },
  {
   "cell_type": "code",
   "execution_count": 9,
   "metadata": {},
   "outputs": [
    {
     "name": "stdout",
     "output_type": "stream",
     "text": [
      "24.7 µs ± 174 ns per loop (mean ± std. dev. of 7 runs, 10000 loops each)\n"
     ]
    }
   ],
   "source": [
    "%%timeit\n",
    "numFive(k)"
   ]
  },
  {
   "cell_type": "markdown",
   "metadata": {},
   "source": [
    "7. (2 pts) Define a **neuron** class that has attributes **cell_type, brain_region, basal_spike_rate_per_sec**. Allow these attributes to be set as inputs when creating an instance of the class. Also make it so that printing an instance of the class should show the cell type and brain region. Create an intance of the class with some attribute values (whatever you want) and print it."
   ]
  },
  {
   "cell_type": "code",
   "execution_count": 30,
   "metadata": {},
   "outputs": [],
   "source": [
    "class Neuron:\n",
    "    def __init__(self, cell_type, brain_region):\n",
    "    cell_type = 1\n",
    "    brain_region = 2\n",
    "    basal_spike_rate_per_sec = 3\n",
    "    \n",
    "     "
   ]
  },
  {
   "cell_type": "markdown",
   "metadata": {},
   "source": [
    "8. (2 pt) Add a method to your **neuron** class definition above (don't alter the code in the above cell, just copy and past to below cell and edit there) that returns a spike rate as a function of two inputs: an array of input strengths and a concentration of a modulatory drug. Make it so that the returned spike rate is the basal spike rate plus the sum of all input strengths multiplied by the drug concentration. Create an instance of your class and use it to generate the cell's spike rate for 101 drug concentrations equally spaced on a logscale from 1 to 100 and given an array of 10 random input strengths in the range 0 to 1 (use different random inputs for each concentration). Plot the spike rate vs drug concentration so computed."
   ]
  },
  {
   "cell_type": "code",
   "execution_count": null,
   "metadata": {},
   "outputs": [],
   "source": []
  }
 ],
 "metadata": {
  "kernelspec": {
   "display_name": "Python 3",
   "language": "python",
   "name": "python3"
  },
  "language_info": {
   "codemirror_mode": {
    "name": "ipython",
    "version": 3
   },
   "file_extension": ".py",
   "mimetype": "text/x-python",
   "name": "python",
   "nbconvert_exporter": "python",
   "pygments_lexer": "ipython3",
   "version": "3.7.4"
  }
 },
 "nbformat": 4,
 "nbformat_minor": 4
}
